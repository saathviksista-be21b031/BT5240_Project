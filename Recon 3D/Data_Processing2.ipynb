{
 "cells": [
  {
   "cell_type": "markdown",
   "metadata": {},
   "source": [
    "Keeping only the drug: side effect entries where the drug is present in the list of drugs in drugbank_inhibitor_gsmm.csv file"
   ]
  },
  {
   "cell_type": "code",
   "execution_count": 5,
   "metadata": {},
   "outputs": [],
   "source": [
    "import pandas as pd\n",
    "df1 = pd.read_csv('C:/Users/Saathvik/Documents/MATLAB/Project_Recon3D/data/DrugBank/drugbank_inhibitors_gsmm.csv')\n",
    "df2 = pd.read_csv('C:/Users/Saathvik/Documents/MATLAB/Project_Recon3D/data/SIDER/sider2_processed.csv')\n",
    "\n",
    "filtered_data = df2[df2['dg_id'].isin(df1['dg_id'])]\n",
    "filtered_data.to_csv('C:/Users/Saathvik/Documents/MATLAB/Project_Recon3D/data/SIDER/sider2_processed.csv', index=False)\n",
    "\n"
   ]
  },
  {
   "cell_type": "markdown",
   "metadata": {},
   "source": [
    "Generating reverse indexed list (side effect: causative drugs)"
   ]
  },
  {
   "cell_type": "code",
   "execution_count": 6,
   "metadata": {},
   "outputs": [
    {
     "name": "stdout",
     "output_type": "stream",
     "text": [
      "['DB00175', 'DB00182', 'DB00184', 'DB00191', 'DB00197', 'DB00198', 'DB00201', 'DB00205', 'DB00206', 'DB00210', 'DB00213', 'DB00214', 'DB00215', 'DB00223', 'DB00227', 'DB00233', 'DB00235', 'DB00242', 'DB00244', 'DB00262', 'DB00273', 'DB00277', 'DB00285', 'DB00310', 'DB00313', 'DB00316', 'DB00321', 'DB00323', 'DB00328', 'DB00331', 'DB00338', 'DB00344', 'DB00348', 'DB00357', 'DB00367', 'DB00368', 'DB00381', 'DB00382', 'DB00390', 'DB00399', 'DB00412', 'DB00419', 'DB00422', 'DB00423', 'DB00432', 'DB00439', 'DB00448', 'DB00449', 'DB00454', 'DB00458', 'DB00461', 'DB00465', 'DB00472', 'DB00482', 'DB00494', 'DB00524', 'DB00533', 'DB00535', 'DB00540', 'DB00543', 'DB00544', 'DB00545', 'DB00548', 'DB00550', 'DB00552', 'DB00558', 'DB00563', 'DB00573', 'DB00575', 'DB00580', 'DB00591', 'DB00600', 'DB00608', 'DB00630', 'DB00631', 'DB00641', 'DB00651', 'DB00656', 'DB00674', 'DB00675', 'DB00695', 'DB00710', 'DB00712', 'DB00715', 'DB00720', 'DB00721', 'DB00735', 'DB00745', 'DB00749', 'DB00756', 'DB00772', 'DB00774', 'DB00780', 'DB00784', 'DB00788', 'DB00806', 'DB00808', 'DB00811', 'DB00819', 'DB00820', 'DB00822', 'DB00843', 'DB00861', 'DB00869', 'DB00870', 'DB00880', 'DB00884', 'DB00887', 'DB00903', 'DB00906', 'DB00907', 'DB00909', 'DB00920', 'DB00924', 'DB00936', 'DB00937', 'DB00945', 'DB00963', 'DB00972', 'DB00973', 'DB00975', 'DB00981', 'DB00988', 'DB00990', 'DB00991', 'DB00993', 'DB00999', 'DB01005', 'DB01009', 'DB01011', 'DB01016', 'DB01023', 'DB01024', 'DB01033', 'DB01037', 'DB01050', 'DB01053', 'DB01058', 'DB01073', 'DB01075', 'DB01077', 'DB01080', 'DB01083', 'DB01091', 'DB01097', 'DB01098', 'DB01101', 'DB01105', 'DB01110', 'DB01113', 'DB01122', 'DB01126', 'DB01129', 'DB01132', 'DB01136', 'DB01149', 'DB01151', 'DB01156', 'DB01158', 'DB01159', 'DB01161', 'DB01168', 'DB01173', 'DB01175', 'DB01185', 'DB01194', 'DB01197', 'DB01213', 'DB01216', 'DB01217', 'DB01221', 'DB01223', 'DB01241', 'DB01242', 'DB01247', 'DB01275', 'DB01280', 'DB01324', 'DB01356', 'DB01399', 'DB01400', 'DB01427', 'DB01577', 'DB01656', 'DB02530', 'DB03754', 'DB04844', 'DB04854', 'DB05351', 'DB06243', 'DB06700', 'DB06736', 'DB06795', 'DB06802', 'DB08167', 'DB09084', 'DB09096', 'DB09460', 'DB09526', 'DB11750', 'DB13867', 'DB14511']\n"
     ]
    }
   ],
   "source": [
    "import os\n",
    "import glob\n",
    "\n",
    "# Set your directory path\n",
    "features_dir = 'C:/Users/Saathvik/Documents/MATLAB/Project_Recon3D/data/FVA_Bounds_norm3/'\n",
    "\n",
    "# Get all matching csv files\n",
    "csv_files = glob.glob(os.path.join(features_dir, 'fva_bounds_*.csv'))\n",
    "\n",
    "# Extract DBIDs from filenames\n",
    "dbids = [os.path.splitext(os.path.basename(f))[0].replace('fva_bounds_', '') for f in csv_files]\n",
    "\n",
    "print(dbids)\n"
   ]
  },
  {
   "cell_type": "code",
   "execution_count": 4,
   "metadata": {},
   "outputs": [
    {
     "name": "stdout",
     "output_type": "stream",
     "text": [
      "yes\n"
     ]
    }
   ],
   "source": [
    "if 'DB01083' in dbids:\n",
    "    print('yes')"
   ]
  },
  {
   "cell_type": "code",
   "execution_count": 10,
   "metadata": {},
   "outputs": [],
   "source": [
    "import pandas as pd\n",
    "\n",
    "# Load and process data\n",
    "df = pd.read_csv(\"C:/Users/Saathvik/Documents/MATLAB/Project_Recon3D/data/SIDER/sider2_processed.csv\")\n",
    "\n",
    "# Modified grouping with safe list filtering\n",
    "grouped_df = df.groupby(\"concept_id\")[\"dg_id\"].apply(\n",
    "    lambda x: \", \".join([drug for drug in x.unique() if drug in dbids])\n",
    ").reset_index()\n",
    "\n",
    "# Filter for side effects with >=10 valid drugs after safe list filtering\n",
    "filtered_df = grouped_df[grouped_df[\"dg_id\"].str.split(\", \").apply(len) >= 10]\n",
    "\n",
    "# Save results\n",
    "filtered_df.to_csv(\"C:/Users/Saathvik/Documents/MATLAB/Project_Recon3D/data/SIDER/side_effects_vs_causative_drugs.csv\", index=False)\n"
   ]
  },
  {
   "cell_type": "code",
   "execution_count": 3,
   "metadata": {},
   "outputs": [
    {
     "name": "stdout",
     "output_type": "stream",
     "text": [
      "     concept_id                                              dg_id\n",
      "1      C0000731  DB01080, DB00244, DB00533, DB00175, DB01280, D...\n",
      "2      C0000737  DB01280, DB00197, DB00972, DB00382, DB00920, D...\n",
      "6      C0000833  DB01097, DB00331, DB00712, DB00843, DB00533, D...\n",
      "21     C0001807  DB00811, DB01080, DB00313, DB00575, DB00843, D...\n",
      "22     C0001824  DB00544, DB01009, DB00533, DB00608, DB00749, D...\n",
      "...         ...                                                ...\n",
      "2100   C1384666  DB00991, DB01073, DB00843, DB00861, DB00313, D...\n",
      "2129   C1565489  DB01586, DB00749, DB01136, DB01050, DB00991, D...\n",
      "2156   C1883552  DB00331, DB00381, DB00575, DB00608, DB00924, D...\n",
      "2170   C2242996  DB00924, DB00548, DB01151, DB01275, DB00544, D...\n",
      "2180   C2830004  DB00381, DB01356, DB01217, DB00972, DB00575, D...\n",
      "\n",
      "[369 rows x 2 columns]\n"
     ]
    }
   ],
   "source": [
    "import pandas as pd\n",
    "\n",
    "# Load CSV\n",
    "df = pd.read_csv(\"C:/Users/Saathvik/Documents/MATLAB/Project_Recon3D/data/SIDER/sider2_processed.csv\")\n",
    "\n",
    "\n",
    "# Group by \"Side Effect\" and aggregate unique drugs\n",
    "grouped_df = df.groupby(\"concept_id\")[\"dg_id\"].apply(lambda x: \", \".join(x.unique())).reset_index()\n",
    "\n",
    "# Filter for side effects with at least 10 causative drugs\n",
    "filtered_df = grouped_df[grouped_df[\"dg_id\"].str.split(\", \").apply(len) >= 10]\n",
    "\n",
    "# Save the filtered results\n",
    "filtered_df.to_csv(\"C:/Users/Saathvik/Documents/MATLAB/Project_Recon3D/data/SIDER/side_effects_vs_causative_drugs.csv\", index=False)\n",
    "\n",
    "# Display the result\n",
    "print(filtered_df)\n"
   ]
  },
  {
   "cell_type": "markdown",
   "metadata": {},
   "source": [
    "Finding no. of unique drugs left"
   ]
  },
  {
   "cell_type": "code",
   "execution_count": 11,
   "metadata": {},
   "outputs": [
    {
     "name": "stdout",
     "output_type": "stream",
     "text": [
      "Number of unique drugs: 143\n"
     ]
    }
   ],
   "source": [
    "import pandas as pd\n",
    "\n",
    "# Load the filtered CSV file\n",
    "filtered_data = pd.read_csv('C:/Users/Saathvik/Documents/MATLAB/Project_Recon3D/data/SIDER/side_effects_vs_causative_drugs.csv')\n",
    "\n",
    "# Split the 'drug' column (assuming column name is 'drug') and flatten the list\n",
    "all_drugs = filtered_data['dg_id'].str.split(',').explode().str.strip()\n",
    "\n",
    "# Get the number of unique drugs\n",
    "unique_drug_count = all_drugs.nunique()\n",
    "\n",
    "# Display the result\n",
    "print(f\"Number of unique drugs: {unique_drug_count}\")\n"
   ]
  },
  {
   "cell_type": "markdown",
   "metadata": {},
   "source": [
    "Generate list of drug-gene target interaction mapping"
   ]
  },
  {
   "cell_type": "code",
   "execution_count": 12,
   "metadata": {},
   "outputs": [],
   "source": [
    "import pandas as pd\n",
    "\n",
    "# Load the CSV file\n",
    "df = pd.read_csv('C:/Users/Saathvik/Documents/MATLAB/Project_Recon3D/data/DrugBank/drugbank_inhibitors_gsmm.csv')\n",
    "  # Replace with your actual file path\n",
    "filtered_data = pd.read_csv('C:/Users/Saathvik/Documents/MATLAB/Project_Recon3D/data/SIDER/side_effects_vs_causative_drugs.csv')\n",
    "\n",
    "# Split the 'drug' column (assuming column name is 'drug') and flatten the list\n",
    "all_drugs = filtered_data['dg_id'].str.split(',').explode().str.strip()\n",
    "\n",
    "# Get the number of unique drugs\n",
    "unique_drugs = all_drugs.unique()\n",
    "\n",
    "# Fill NaN values with an empty string (or drop them)\n",
    "df[\"target_gene_name\"] = df[\"target_gene_name\"].fillna(\"\")  # Alternative: df.dropna(subset=[\"gene\"], inplace=True)\n",
    "\n",
    "# Group by 'drug' and aggregate genes into a single column\n",
    "grouped_df = df.groupby(\"dg_id\", as_index=False).agg({\"target_gene_name\": lambda x: \", \".join(x.dropna().astype(str).unique())})\n",
    "\n",
    "final_df=grouped_df[grouped_df['dg_id'].isin(unique_drugs)]\n",
    "# Save the processed data\n",
    "final_df.to_csv(\"C:/Users/Saathvik/Documents/MATLAB/Project_Recon3D/data/DrugBank/drug_gene_targets.csv\", index=False)\n",
    "\n",
    "# Display the first few rows\n",
    "#print(grouped_df.head())\n"
   ]
  },
  {
   "cell_type": "markdown",
   "metadata": {},
   "source": [
    "To convert the descriptive gene names back to model gene names"
   ]
  },
  {
   "cell_type": "code",
   "execution_count": 13,
   "metadata": {},
   "outputs": [
    {
     "name": "stdout",
     "output_type": "stream",
     "text": [
      "Updated CSV saved as 'updated_drugs.csv'\n"
     ]
    }
   ],
   "source": [
    "import pandas as pd\n",
    "\n",
    "# Load the first CSV (drug-gene mappings)\n",
    "drugs_df = pd.read_csv(\"C:/Users/Saathvik/Documents/MATLAB/Project_Recon3D/data/DrugBank/drug_gene_targets.csv\")  # Columns: Drug, Gene_Target_Convention1\n",
    "\n",
    "# Load the second CSV (gene name conversions)\n",
    "gene_conversion_df = pd.read_csv(\"C:/Users/Saathvik/Documents/MATLAB/Project_Recon3D/data/GSMMs/gene_descriptions.csv\")  # Columns: Convention1, Convention2\n",
    "\n",
    "# Explode drug-gene targets into separate rows\n",
    "drugs_df[\"target_gene_name\"] = drugs_df[\"target_gene_name\"].str.split(\", \")\n",
    "drugs_df = drugs_df.explode(\"target_gene_name\")\n",
    "\n",
    "# Merge to get convention2 names\n",
    "merged_df = drugs_df.merge(gene_conversion_df, left_on=\"target_gene_name\", right_on=\"genes_desc\", how=\"left\")\n",
    "\n",
    "# Replace convention1 names with convention2\n",
    "merged_df[\"Gene_Target_Convention2\"] = merged_df[\"gene_ids\"].fillna(merged_df[\"target_gene_name\"])\n",
    "\n",
    "# Drop unnecessary columns\n",
    "merged_df = merged_df.drop(columns=[\"target_gene_name\", \"genes_desc\", \"gene_ids\"])\n",
    "\n",
    "# Group back by drug, joining multiple targets with commas\n",
    "final_df = merged_df.groupby(\"dg_id\")[\"Gene_Target_Convention2\"].apply(lambda x: \", \".join(x)).reset_index()\n",
    "\n",
    "# Rename column\n",
    "final_df = final_df.rename(columns={\"Gene_Target_Convention2\": \"target_gene_name\"})\n",
    "\n",
    "# Save to new CSV\n",
    "final_df.to_csv(\"C:/Users/Saathvik/Documents/MATLAB/Project_Recon3D/data/DrugBank/drug_gene_targets_1.csv\", index=False)\n",
    "\n",
    "print(\"Updated CSV saved as 'updated_drugs.csv'\")\n"
   ]
  }
 ],
 "metadata": {
  "kernelspec": {
   "display_name": "Python 3",
   "language": "python",
   "name": "python3"
  },
  "language_info": {
   "codemirror_mode": {
    "name": "ipython",
    "version": 3
   },
   "file_extension": ".py",
   "mimetype": "text/x-python",
   "name": "python",
   "nbconvert_exporter": "python",
   "pygments_lexer": "ipython3",
   "version": "3.12.5"
  }
 },
 "nbformat": 4,
 "nbformat_minor": 2
}
