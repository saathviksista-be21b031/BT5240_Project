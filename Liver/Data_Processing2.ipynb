{
 "cells": [
  {
   "cell_type": "markdown",
   "metadata": {},
   "source": [
    "Keeping only the drug: side effect entries where the drug is present in the list of drugs in drugbank_inhibitor_gsmm.csv file"
   ]
  },
  {
   "cell_type": "code",
   "execution_count": 2,
   "metadata": {},
   "outputs": [],
   "source": [
    "import pandas as pd\n",
    "df1 = pd.read_csv('C:/Users/Saathvik/Documents/MATLAB/Project_Liver/data/DrugBank/drugbank_inhibitors_gsmm.csv')\n",
    "df2 = pd.read_csv('C:/Users/Saathvik/Documents/MATLAB/Project_Liver/data/SIDER/sider2_processed.csv')\n",
    "df3 = pd.read_csv('C:/Users/Saathvik/Documents/MATLAB/Project_Liver/data/DrugBank/drugbank_inhibitors_gsmm_meta.csv')\n",
    "\n",
    "filtered_data = df2[df2['dg_id'].isin(df1['dg_id'])]\n",
    "filtered_data_meta = df2[df2['dg_id'].isin(df3['dg_id'])]\n",
    "filtered_data.to_csv('C:/Users/Saathvik/Documents/MATLAB/Project_Liver/data/SIDER/sider2_processed.csv', index=False)\n",
    "filtered_data_meta.to_csv('C:/Users/Saathvik/Documents/MATLAB/Project_Liver/data/SIDER/sider2_processed_meta.csv', index=False)\n",
    "\n"
   ]
  },
  {
   "cell_type": "markdown",
   "metadata": {},
   "source": [
    "Generating reverse indexed list (side effect: causative drugs)"
   ]
  },
  {
   "cell_type": "code",
   "execution_count": 3,
   "metadata": {},
   "outputs": [],
   "source": [
    "import pandas as pd\n",
    "\n",
    "# Load CSV\n",
    "df = pd.read_csv(\"C:/Users/Saathvik/Documents/MATLAB/Project_Liver/data/SIDER/sider2_processed.csv\")\n",
    "df1 = pd.read_csv(\"C:/Users/Saathvik/Documents/MATLAB/Project_Liver/data/SIDER/sider2_processed_meta.csv\")\n",
    "\n",
    "# Group by \"Side Effect\" and aggregate unique drugs\n",
    "grouped_df = df.groupby(\"concept_id\")[\"dg_id\"].apply(lambda x: \", \".join(x.unique())).reset_index()\n",
    "grouped_df1 = df1.groupby(\"concept_id\")[\"dg_id\"].apply(lambda x: \", \".join(x.unique())).reset_index()\n",
    "# Filter for side effects with at least 10 causative drugs\n",
    "filtered_df = grouped_df[grouped_df[\"dg_id\"].str.split(\", \").apply(len) >= 10]\n",
    "filtered_df1 = grouped_df1[grouped_df1[\"dg_id\"].str.split(\", \").apply(len) >= 10]\n",
    "# Save the filtered results\n",
    "filtered_df.to_csv(\"C:/Users/Saathvik/Documents/MATLAB/Project_Liver/data/SIDER/side_effects_vs_causative_drugs.csv\", index=False)\n",
    "filtered_df1.to_csv(\"C:/Users/Saathvik/Documents/MATLAB/Project_Liver/data/SIDER/side_effects_vs_causative_drugs_meta.csv\", index=False)\n",
    "\n",
    "# Display the result\n",
    "#print(filtered_df)\n"
   ]
  },
  {
   "cell_type": "markdown",
   "metadata": {},
   "source": [
    "Finding no. of unique drugs left"
   ]
  },
  {
   "cell_type": "code",
   "execution_count": 8,
   "metadata": {},
   "outputs": [
    {
     "name": "stdout",
     "output_type": "stream",
     "text": [
      "Number of unique drugs: 137\n",
      "Number of unique drugs (only metabolic): 97\n"
     ]
    }
   ],
   "source": [
    "import pandas as pd\n",
    "\n",
    "# Load the filtered CSV file\n",
    "filtered_data = pd.read_csv('C:/Users/Saathvik/Documents/MATLAB/Project_Liver/data/SIDER/side_effects_vs_causative_drugs.csv')\n",
    "filtered_data_meta = pd.read_csv('C:/Users/Saathvik/Documents/MATLAB/Project_Liver/data/SIDER/side_effects_vs_causative_drugs_meta.csv')\n",
    "\n",
    "# Split the 'drug' column (assuming column name is 'drug') and flatten the list\n",
    "all_drugs = filtered_data['dg_id'].str.split(',').explode().str.strip()\n",
    "all_drugs_meta = filtered_data_meta['dg_id'].str.split(',').explode().str.strip()\n",
    "\n",
    "# Get the number of unique drugs\n",
    "unique_drug_count = all_drugs.nunique()\n",
    "unique_drug_count_meta = all_drugs_meta.nunique()\n",
    "\n",
    "# Display the result\n",
    "print(f\"Number of unique drugs: {unique_drug_count}\")\n",
    "print(f\"Number of unique drugs (only metabolic): {unique_drug_count_meta}\")\n"
   ]
  },
  {
   "cell_type": "markdown",
   "metadata": {},
   "source": [
    "Generate list of drug-gene target interaction mapping"
   ]
  },
  {
   "cell_type": "code",
   "execution_count": 11,
   "metadata": {},
   "outputs": [],
   "source": [
    "import pandas as pd\n",
    "\n",
    "# Load the CSV file\n",
    "df = pd.read_csv('C:/Users/Saathvik/Documents/MATLAB/Project_Liver/data/DrugBank/drugbank_inhibitors_gsmm_meta.csv')\n",
    "  # Replace with your actual file path\n",
    "filtered_data = pd.read_csv('C:/Users/Saathvik/Documents/MATLAB/Project_Liver/data/SIDER/side_effects_vs_causative_drugs_meta.csv')\n",
    "\n",
    "# Split the 'drug' column (assuming column name is 'drug') and flatten the list\n",
    "all_drugs = filtered_data['dg_id'].str.split(',').explode().str.strip()\n",
    "\n",
    "# Get the number of unique drugs\n",
    "unique_drugs = all_drugs.unique()\n",
    "\n",
    "# Fill NaN values with an empty string (or drop them)\n",
    "df[\"target_gene_name\"] = df[\"target_gene_name\"].fillna(\"\")  # Alternative: df.dropna(subset=[\"gene\"], inplace=True)\n",
    "\n",
    "# Group by 'drug' and aggregate genes into a single column\n",
    "grouped_df = df.groupby(\"dg_id\", as_index=False).agg({\"target_gene_name\": lambda x: \", \".join(x.dropna().astype(str).unique())})\n",
    "\n",
    "final_df=grouped_df[grouped_df['dg_id'].isin(unique_drugs)]\n",
    "# Save the processed data\n",
    "final_df.to_csv(\"C:/Users/Saathvik/Documents/MATLAB/Project_Liver/data/DrugBank/drug_gene_targets_meta.csv\", index=False)\n",
    "\n",
    "# Display the first few rows\n",
    "#print(grouped_df.head())\n"
   ]
  },
  {
   "cell_type": "markdown",
   "metadata": {},
   "source": [
    "To convert the descriptive gene names back to model gene names"
   ]
  },
  {
   "cell_type": "code",
   "execution_count": 13,
   "metadata": {},
   "outputs": [],
   "source": [
    "import pandas as pd\n",
    "\n",
    "# Load the first CSV (drug-gene mappings)\n",
    "drugs_df = pd.read_csv(\"C:/Users/Saathvik/Documents/MATLAB/Project_Liver/data/DrugBank/drug_gene_targets_meta.csv\")  # Columns: Drug, Gene_Target_Convention1\n",
    "\n",
    "# Load the second CSV (gene name conversions)\n",
    "gene_conversion_df = pd.read_csv(\"C:/Users/Saathvik/Documents/MATLAB/Project_Liver/data/GSMMs/gene_descriptions.csv\")  # Columns: Convention1, Convention2\n",
    "\n",
    "# Explode drug-gene targets into separate rows\n",
    "drugs_df[\"target_gene_name\"] = drugs_df[\"target_gene_name\"].str.split(\", \")\n",
    "drugs_df = drugs_df.explode(\"target_gene_name\")\n",
    "\n",
    "# Merge to get convention2 names\n",
    "merged_df = drugs_df.merge(gene_conversion_df, left_on=\"target_gene_name\", right_on=\"genes_desc\", how=\"left\")\n",
    "\n",
    "# Replace convention1 names with convention2\n",
    "merged_df[\"Gene_Target_Convention2\"] = merged_df[\"gene_ids\"].fillna(merged_df[\"target_gene_name\"])\n",
    "\n",
    "# Drop unnecessary columns\n",
    "merged_df = merged_df.drop(columns=[\"target_gene_name\", \"genes_desc\", \"gene_ids\"])\n",
    "\n",
    "# Group back by drug, joining multiple targets with commas\n",
    "final_df = merged_df.groupby(\"dg_id\")[\"Gene_Target_Convention2\"].apply(lambda x: \", \".join(x)).reset_index()\n",
    "\n",
    "# Rename column\n",
    "final_df = final_df.rename(columns={\"Gene_Target_Convention2\": \"target_gene_name\"})\n",
    "\n",
    "# Save to new CSV\n",
    "final_df.to_csv(\"C:/Users/Saathvik/Documents/MATLAB/Project_Liver/data/DrugBank/drug_gene_targets_meta_1.csv\", index=False)\n",
    "\n"
   ]
  },
  {
   "cell_type": "markdown",
   "metadata": {},
   "source": [
    "# Redundant "
   ]
  },
  {
   "cell_type": "code",
   "execution_count": 6,
   "metadata": {},
   "outputs": [
    {
     "name": "stdout",
     "output_type": "stream",
     "text": [
      "Filtered records saved to 'filtered_a.csv'\n"
     ]
    }
   ],
   "source": [
    "import pandas as pd\n",
    "\n",
    "# Load CSV file 'a' with a header\n",
    "a = pd.read_csv(\"C:/Users/Saathvik/Documents/MATLAB/Project_Recon3D/data/DrugBank/drugbank_inhibitors_gsmm.csv\")\n",
    "\n",
    "# Load CSV file 'b' without a header\n",
    "b = pd.read_excel(\"C:/Users/Saathvik/Downloads/Mammalian_Metabolic_Final.xlsx\")\n",
    "a['gene_normalized'] = a['target_gene_name'].str.lower()\n",
    "b['Gene Symbol'] = b['Gene Symbol'].str.lower()\n",
    "# Filter records in 'a' where the 'gene' column exists in the 5th column of 'b'\n",
    "filtered_a = a[a['gene_normalized'].isin(b['Gene Symbol'])]\n",
    "filtered_a = filtered_a.drop(columns=['gene_normalized'])\n",
    "\n",
    "# Save the filtered records to a new CSV file\n",
    "filtered_a.to_csv('filtered_a.csv', index=False)\n",
    "\n",
    "print(\"Filtered records saved to 'filtered_a.csv'\")"
   ]
  },
  {
   "cell_type": "code",
   "execution_count": null,
   "metadata": {},
   "outputs": [],
   "source": [
    "\n",
    "a['gene_normalized'] = a['target_gene_name'].str.lower()\n",
    "b[3] = b[3].str.lower()\n",
    "# Filter records in 'a' where the 'gene' column exists in the 5th column of 'b'\n",
    "filtered_a = a[a['gene_normalized'].isin(b[3])]\n",
    "filtered_a = filtered_a.drop(columns=['gene_normalized'])\n",
    "\n",
    "# Save the filtered records to a new CSV file\n",
    "filtered_a.to_csv('filtered_a.csv', index=False)\n",
    "\n",
    "print(\"Filtered records saved to 'filtered_a.csv'\")"
   ]
  },
  {
   "cell_type": "code",
   "execution_count": 14,
   "metadata": {},
   "outputs": [
    {
     "ename": "NameError",
     "evalue": "name 'a' is not defined",
     "output_type": "error",
     "traceback": [
      "\u001b[1;31m---------------------------------------------------------------------------\u001b[0m",
      "\u001b[1;31mNameError\u001b[0m                                 Traceback (most recent call last)",
      "Cell \u001b[1;32mIn[14], line 1\u001b[0m\n\u001b[1;32m----> 1\u001b[0m a[\u001b[38;5;124m'\u001b[39m\u001b[38;5;124mgene_normalized\u001b[39m\u001b[38;5;124m'\u001b[39m] \u001b[38;5;241m=\u001b[39m a[\u001b[38;5;124m'\u001b[39m\u001b[38;5;124mtarget_gene_name\u001b[39m\u001b[38;5;124m'\u001b[39m]\u001b[38;5;241m.\u001b[39mstr\u001b[38;5;241m.\u001b[39mlower()\n\u001b[0;32m      2\u001b[0m b[\u001b[38;5;241m3\u001b[39m] \u001b[38;5;241m=\u001b[39m b[\u001b[38;5;241m3\u001b[39m]\u001b[38;5;241m.\u001b[39mstr\u001b[38;5;241m.\u001b[39mlower()\n\u001b[0;32m      3\u001b[0m \u001b[38;5;66;03m# Filter records in 'a' where the 'gene' column exists in the 5th column of 'b'\u001b[39;00m\n",
      "\u001b[1;31mNameError\u001b[0m: name 'a' is not defined"
     ]
    }
   ],
   "source": [
    "\n",
    "a['gene_normalized'] = a['target_gene_name'].str.lower()\n",
    "b[3] = b[3].str.lower()\n",
    "# Filter records in 'a' where the 'gene' column exists in the 5th column of 'b'\n",
    "filtered_a = a[a['gene_normalized'].isin(b[3])]\n",
    "filtered_a = filtered_a.drop(columns=['gene_normalized'])\n",
    "\n",
    "# Save the filtered records to a new CSV file\n",
    "filtered_a.to_csv('filtered_a.csv', index=False)\n",
    "\n",
    "print(\"Filtered records saved to 'filtered_a.csv'\")\n"
   ]
  }
 ],
 "metadata": {
  "kernelspec": {
   "display_name": "base",
   "language": "python",
   "name": "python3"
  },
  "language_info": {
   "codemirror_mode": {
    "name": "ipython",
    "version": 3
   },
   "file_extension": ".py",
   "mimetype": "text/x-python",
   "name": "python",
   "nbconvert_exporter": "python",
   "pygments_lexer": "ipython3",
   "version": "3.12.7"
  }
 },
 "nbformat": 4,
 "nbformat_minor": 2
}
